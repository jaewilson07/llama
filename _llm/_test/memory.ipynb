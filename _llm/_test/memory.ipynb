{
 "cells": [
  {
   "cell_type": "code",
   "execution_count": 2,
   "metadata": {},
   "outputs": [],
   "source": [
    "# |hide\n",
    "\n",
    "\n",
    "IP_ADDRESS = os.getenv(\"IP_ADDRESS\")\n",
    "assert IP_ADDRESS"
   ]
  },
  {
   "cell_type": "code",
   "execution_count": 4,
   "metadata": {},
   "outputs": [],
   "source": [
    "from langchain_openai import ChatOpenAI\n",
    "\n",
    "llm = ChatOpenAI(\n",
    "    openai_api_base=f\"http://{IP_ADDRESS}:1234/v1/\",\n",
    "    openai_api_key=\"not-needed\",\n",
    "    model=\"local_model\",\n",
    "    temperature=0.7,\n",
    ")"
   ]
  },
  {
   "cell_type": "code",
   "execution_count": 37,
   "metadata": {},
   "outputs": [
    {
     "data": {
      "text/plain": [
       "<generator object BaseChatModel.stream at 0x7fce6fb1ba00>"
      ]
     },
     "execution_count": 37,
     "metadata": {},
     "output_type": "execute_result"
    }
   ],
   "source": [
    "from langchain.prompts import (\n",
    "    ChatPromptTemplate,\n",
    "    PromptTemplate,\n",
    "    MessagesPlaceholder,\n",
    "    SystemMessagePromptTemplate,\n",
    "    HumanMessagePromptTemplate,\n",
    ")\n",
    "\n",
    "from langchain_core.messages.human import HumanMessage\n",
    "\n",
    "template = \"\"\"{system_prompt}\n",
    "You are having a conversation with a human.\n",
    "Use the following context and chat_history as you engage with them. \n",
    "\n",
    "Context:\n",
    "{context}\n",
    "\n",
    "messages: {messages}\n",
    "\n",
    "Response:\n",
    "\"\"\"\n",
    "\n",
    "prompt_template = PromptTemplate(\n",
    "    template=template,\n",
    "    input_variables=[\"system_prompt\", \"chat_history\", \"context\", \"question\"],\n",
    ")\n",
    "\n",
    "prompt = prompt_template.format(\n",
    "    system_prompt=\"you are a Thor\",\n",
    "    context=[\"today's date is 2024-02-01\"],\n",
    "    messages=[HumanMessage(content=\"what is today's date?\")],\n",
    ")\n",
    "\n",
    "llm.stream(prompt)\n",
    "\n",
    "# prompt = ChatPromptTemplate(\n",
    "#     messages=[\n",
    "#         SystemMessagePromptTemplate.from_template(\n",
    "#             \"You are a nice chatbot having a conversation with a human.\"\n",
    "#         ),\n",
    "#         MessagesPlaceholder(variable_name=\"chat_history\"), # variable must align in memory\n",
    "#         HumanMessagePromptTemplate.from_template(\"{question}\")\n",
    "#     ]\n",
    "# )"
   ]
  },
  {
   "cell_type": "code",
   "execution_count": 9,
   "metadata": {},
   "outputs": [
    {
     "data": {
      "text/plain": [
       "ChatPromptTemplate(input_variables=['chat_history', 'question'], input_types={'chat_history': typing.List[typing.Union[langchain_core.messages.ai.AIMessage, langchain_core.messages.human.HumanMessage, langchain_core.messages.chat.ChatMessage, langchain_core.messages.system.SystemMessage, langchain_core.messages.function.FunctionMessage, langchain_core.messages.tool.ToolMessage]]}, messages=[SystemMessagePromptTemplate(prompt=PromptTemplate(input_variables=[], template='You are a nice chatbot having a conversation with a human.')), MessagesPlaceholder(variable_name='chat_history'), HumanMessagePromptTemplate(prompt=PromptTemplate(input_variables=['question'], template='{question}'))])"
      ]
     },
     "execution_count": 9,
     "metadata": {},
     "output_type": "execute_result"
    }
   ],
   "source": [
    "prompt"
   ]
  },
  {
   "cell_type": "code",
   "execution_count": 11,
   "metadata": {},
   "outputs": [],
   "source": [
    "from langchain.memory import ConversationBufferMemory\n",
    "\n",
    "memory = ConversationBufferMemory(memory_key=\"chat_history\", return_messages=True)"
   ]
  },
  {
   "cell_type": "code",
   "execution_count": 13,
   "metadata": {},
   "outputs": [],
   "source": [
    "from langchain.chains import LLMChain\n",
    "\n",
    "conversation = LLMChain(llm=llm, prompt=prompt, verbose=True, memory=memory)"
   ]
  },
  {
   "cell_type": "code",
   "execution_count": 17,
   "metadata": {},
   "outputs": [
    {
     "name": "stdout",
     "output_type": "stream",
     "text": [
      "\n",
      "\n",
      "\u001b[1m> Entering new LLMChain chain...\u001b[0m\n",
      "Prompt after formatting:\n",
      "\u001b[32;1m\u001b[1;3mSystem: You are a nice chatbot having a conversation with a human.\n",
      "Human: hi\n",
      "AI:  Hello! How can I help you today? If you have any questions or need assistance with something, feel free to ask. I'm here to make your experience as enjoyable and productive as possible. Is there a specific topic or task you'd like to discuss? I'll do my best to provide accurate and helpful information. Let me know if there's anything I can do for you. If you just want to chat, that's fine too! I enjoy engaging in friendly conversation with my users. So, how has your day been so far? Is there anything interesting or exciting happening in your life that you'd like to share? I'm all ears! 😊\n",
      "Human: my name is Jae\n",
      "AI:  Hi Jae! Nice to meet you. It's a pleasure to make your acquaintance. I'm just a friendly chatbot here to help answer any questions you might have and engage in conversation with you. Is there anything specific you'd like to talk about or ask me about? Or maybe you just want to share something interesting that's been happening in your life lately? I'm all ears! 😊 Feel free to share as much or as little as you're comfortable with. I'm here to listen and help in any way I can. So, how has your day been so far, Jae? Is there anything you'd like to discuss?\n",
      "Human: whats my name again?\u001b[0m\n",
      "\n",
      "\u001b[1m> Finished chain.\u001b[0m\n"
     ]
    },
    {
     "data": {
      "text/plain": [
       "{'question': 'whats my name again?',\n",
       " 'chat_history': [HumanMessage(content='hi'),\n",
       "  AIMessage(content=\" Hello! How can I help you today? If you have any questions or need assistance with something, feel free to ask. I'm here to make your experience as enjoyable and productive as possible. Is there a specific topic or task you'd like to discuss? I'll do my best to provide accurate and helpful information. Let me know if there's anything I can do for you. If you just want to chat, that's fine too! I enjoy engaging in friendly conversation with my users. So, how has your day been so far? Is there anything interesting or exciting happening in your life that you'd like to share? I'm all ears! 😊\"),\n",
       "  HumanMessage(content='my name is Jae'),\n",
       "  AIMessage(content=\" Hi Jae! Nice to meet you. It's a pleasure to make your acquaintance. I'm just a friendly chatbot here to help answer any questions you might have and engage in conversation with you. Is there anything specific you'd like to talk about or ask me about? Or maybe you just want to share something interesting that's been happening in your life lately? I'm all ears! 😊 Feel free to share as much or as little as you're comfortable with. I'm here to listen and help in any way I can. So, how has your day been so far, Jae? Is there anything you'd like to discuss?\"),\n",
       "  HumanMessage(content='whats my name again?'),\n",
       "  AIMessage(content=' I believe your name is Jae, as that\\'s what you introduced yourself as earlier in our conversation. But if you tell me otherwise or prefer a different name, please let me know and I will happily use that instead. It\\'s important to me that I address you by the name that makes you feel most comfortable and respected. So, please don\\'t hesitate to let me know if there\\'s anything I can do to make our conversation more enjoyable or productive for you. Is there something specific you\\'d like to discuss or ask about, Jae? I\\'m here to help answer any questions you might have and engage in friendly conversation with you. Let me know if there\\'s anything I can do for you. 😊[\\n\\nIt is important to note that while I strive to respect user\\'s preferred names, some users may have multiple or complex names, or may prefer not to reveal their name at all, and that\\'s perfectly fine too! In such cases, I will address the user as \"friend\" or \"user\" or use another neutral term. Ultimately, my goal is to provide a respectful and inclusive conversation experience for everyone. Let me know if there\\'s anything I can help you with, Jae! 😊')],\n",
       " 'text': ' I believe your name is Jae, as that\\'s what you introduced yourself as earlier in our conversation. But if you tell me otherwise or prefer a different name, please let me know and I will happily use that instead. It\\'s important to me that I address you by the name that makes you feel most comfortable and respected. So, please don\\'t hesitate to let me know if there\\'s anything I can do to make our conversation more enjoyable or productive for you. Is there something specific you\\'d like to discuss or ask about, Jae? I\\'m here to help answer any questions you might have and engage in friendly conversation with you. Let me know if there\\'s anything I can do for you. 😊[\\n\\nIt is important to note that while I strive to respect user\\'s preferred names, some users may have multiple or complex names, or may prefer not to reveal their name at all, and that\\'s perfectly fine too! In such cases, I will address the user as \"friend\" or \"user\" or use another neutral term. Ultimately, my goal is to provide a respectful and inclusive conversation experience for everyone. Let me know if there\\'s anything I can help you with, Jae! 😊'}"
      ]
     },
     "execution_count": 17,
     "metadata": {},
     "output_type": "execute_result"
    }
   ],
   "source": [
    "conversation.invoke(input=\"whats my name again?\")"
   ]
  }
 ],
 "metadata": {
  "kernelspec": {
   "display_name": ".venv",
   "language": "python",
   "name": "python3"
  },
  "language_info": {
   "codemirror_mode": {
    "name": "ipython",
    "version": 3
   },
   "file_extension": ".py",
   "mimetype": "text/x-python",
   "name": "python",
   "nbconvert_exporter": "python",
   "pygments_lexer": "ipython3",
   "version": "3.11.0rc1"
  }
 },
 "nbformat": 4,
 "nbformat_minor": 2
}
