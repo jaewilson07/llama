{
 "cells": [
  {
   "cell_type": "code",
   "execution_count": 1,
   "metadata": {},
   "outputs": [],
   "source": [
    "# %pip install pyngrok nest_asyncio fastapi uvicorn loguru sse-starlette starlette-context pydantic-settings python-dotenv\n"
   ]
  },
  {
   "cell_type": "code",
   "execution_count": 2,
   "metadata": {},
   "outputs": [
    {
     "data": {
      "text/plain": [
       "True"
      ]
     },
     "execution_count": 2,
     "metadata": {},
     "output_type": "execute_result"
    }
   ],
   "source": [
    "from dotenv import load_dotenv\n",
    "\n",
    "load_dotenv('.env')"
   ]
  },
  {
   "cell_type": "code",
   "execution_count": 3,
   "metadata": {},
   "outputs": [
    {
     "data": {
      "text/plain": [
       "<NgrokTunnel: \"https://9dd3-2601-284-8380-da0-acb8-f53c-24bf-86db.ngrok-free.app\" -> \"http://localhost:8000\">"
      ]
     },
     "execution_count": 3,
     "metadata": {},
     "output_type": "execute_result"
    }
   ],
   "source": [
    "from pyngrok import ngrok\n",
    "\n",
    "PORT = 8000\n",
    "ngrok_tunnel = ngrok.connect(PORT)\n",
    "\n",
    "ngrok_tunnel"
   ]
  },
  {
   "cell_type": "code",
   "execution_count": 4,
   "metadata": {},
   "outputs": [
    {
     "name": "stderr",
     "output_type": "stream",
     "text": [
      "AVX = 1 | AVX_VNNI = 0 | AVX2 = 1 | AVX512 = 0 | AVX512_VBMI = 0 | AVX512_VNNI = 0 | FMA = 1 | NEON = 0 | ARM_FMA = 0 | F16C = 1 | FP16_VA = 0 | WASM_SIMD = 0 | BLAS = 0 | SSE3 = 1 | SSSE3 = 0 | VSX = 0 | \n"
     ]
    }
   ],
   "source": [
    "import os\n",
    "import nest_asyncio\n",
    "import uvicorn\n",
    "\n",
    "from llama_cpp.server.app import create_app\n",
    "\n",
    "app = create_app()"
   ]
  },
  {
   "cell_type": "code",
   "execution_count": 5,
   "metadata": {},
   "outputs": [],
   "source": [
    "@app.get(\"/\")\n",
    "async def root():\n",
    "    return {\"message\": \"Hello World\"}"
   ]
  },
  {
   "cell_type": "code",
   "execution_count": 6,
   "metadata": {},
   "outputs": [
    {
     "name": "stderr",
     "output_type": "stream",
     "text": [
      "INFO:     Started server process [2028]\n",
      "INFO:     Waiting for application startup.\n",
      "INFO:     Application startup complete.\n",
      "INFO:     Uvicorn running on http://localhost:8000 (Press CTRL+C to quit)\n"
     ]
    },
    {
     "name": "stdout",
     "output_type": "stream",
     "text": [
      "INFO:     ::1:50917 - \"GET / HTTP/1.1\" 200 OK\n",
      "INFO:     ::1:50962 - \"GET /docs HTTP/1.1\" 200 OK\n",
      "INFO:     ::1:50962 - \"GET /openapi.json HTTP/1.1\" 200 OK\n",
      "INFO:     ::1:50963 - \"POST /v1/completions HTTP/1.1\" 200 OK\n",
      "INFO:     ::1:50994 - \"POST /v1/completions HTTP/1.1\" 500 Internal Server Error\n"
     ]
    },
    {
     "name": "stderr",
     "output_type": "stream",
     "text": [
      "ERROR:    Exception in ASGI application\n",
      "Traceback (most recent call last):\n",
      "  File \"c:\\Users\\jaewi\\GitHub\\llama\\.venv\\lib\\site-packages\\fastapi\\routing.py\", line 245, in app\n",
      "    json_body = await request.json()\n",
      "  File \"c:\\Users\\jaewi\\GitHub\\llama\\.venv\\lib\\site-packages\\starlette\\requests.py\", line 243, in json\n",
      "    self._json = json.loads(body)\n",
      "  File \"C:\\Users\\jaewi\\.pyenv\\pyenv-win\\versions\\3.10.9\\lib\\json\\__init__.py\", line 346, in loads\n",
      "    return _default_decoder.decode(s)\n",
      "  File \"C:\\Users\\jaewi\\.pyenv\\pyenv-win\\versions\\3.10.9\\lib\\json\\decoder.py\", line 337, in decode\n",
      "    obj, end = self.raw_decode(s, idx=_w(s, 0).end())\n",
      "  File \"C:\\Users\\jaewi\\.pyenv\\pyenv-win\\versions\\3.10.9\\lib\\json\\decoder.py\", line 353, in raw_decode\n",
      "    obj, end = self.scan_once(s, idx)\n",
      "json.decoder.JSONDecodeError: Expecting property name enclosed in double quotes: line 3 column 1 (char 90)\n",
      "\n",
      "The above exception was the direct cause of the following exception:\n",
      "\n",
      "Traceback (most recent call last):\n",
      "  File \"c:\\Users\\jaewi\\GitHub\\llama\\.venv\\lib\\site-packages\\llama_cpp\\server\\errors.py\", line 170, in custom_route_handler\n",
      "    response = await original_route_handler(request)\n",
      "  File \"c:\\Users\\jaewi\\GitHub\\llama\\.venv\\lib\\site-packages\\fastapi\\routing.py\", line 264, in app\n",
      "    raise validation_error from e\n",
      "fastapi.exceptions.RequestValidationError: [{'type': 'json_invalid', 'loc': ('body', 90), 'msg': 'JSON decode error', 'input': {}, 'ctx': {'error': 'Expecting property name enclosed in double quotes'}}]\n",
      "\n",
      "During handling of the above exception, another exception occurred:\n",
      "\n",
      "Traceback (most recent call last):\n",
      "  File \"c:\\Users\\jaewi\\GitHub\\llama\\.venv\\lib\\site-packages\\uvicorn\\protocols\\http\\h11_impl.py\", line 408, in run_asgi\n",
      "    result = await app(  # type: ignore[func-returns-value]\n",
      "  File \"c:\\Users\\jaewi\\GitHub\\llama\\.venv\\lib\\site-packages\\uvicorn\\middleware\\proxy_headers.py\", line 84, in __call__\n",
      "    return await self.app(scope, receive, send)\n",
      "  File \"c:\\Users\\jaewi\\GitHub\\llama\\.venv\\lib\\site-packages\\fastapi\\applications.py\", line 1054, in __call__\n",
      "    await super().__call__(scope, receive, send)\n",
      "  File \"c:\\Users\\jaewi\\GitHub\\llama\\.venv\\lib\\site-packages\\starlette\\applications.py\", line 116, in __call__\n",
      "    await self.middleware_stack(scope, receive, send)\n",
      "  File \"c:\\Users\\jaewi\\GitHub\\llama\\.venv\\lib\\site-packages\\starlette\\middleware\\errors.py\", line 186, in __call__\n",
      "    raise exc\n",
      "  File \"c:\\Users\\jaewi\\GitHub\\llama\\.venv\\lib\\site-packages\\starlette\\middleware\\errors.py\", line 164, in __call__\n",
      "    await self.app(scope, receive, _send)\n",
      "  File \"c:\\Users\\jaewi\\GitHub\\llama\\.venv\\lib\\site-packages\\starlette\\middleware\\cors.py\", line 91, in __call__\n",
      "    await self.simple_response(scope, receive, send, request_headers=headers)\n",
      "  File \"c:\\Users\\jaewi\\GitHub\\llama\\.venv\\lib\\site-packages\\starlette\\middleware\\cors.py\", line 146, in simple_response\n",
      "    await self.app(scope, receive, send)\n",
      "  File \"c:\\Users\\jaewi\\GitHub\\llama\\.venv\\lib\\site-packages\\starlette_context\\middleware\\raw_middleware.py\", line 92, in __call__\n",
      "    await self.app(scope, receive, send_wrapper)\n",
      "  File \"c:\\Users\\jaewi\\GitHub\\llama\\.venv\\lib\\site-packages\\starlette\\middleware\\exceptions.py\", line 62, in __call__\n",
      "    await wrap_app_handling_exceptions(self.app, conn)(scope, receive, send)\n",
      "  File \"c:\\Users\\jaewi\\GitHub\\llama\\.venv\\lib\\site-packages\\starlette\\_exception_handler.py\", line 55, in wrapped_app\n",
      "    raise exc\n",
      "  File \"c:\\Users\\jaewi\\GitHub\\llama\\.venv\\lib\\site-packages\\starlette\\_exception_handler.py\", line 44, in wrapped_app\n",
      "    await app(scope, receive, sender)\n",
      "  File \"c:\\Users\\jaewi\\GitHub\\llama\\.venv\\lib\\site-packages\\starlette\\routing.py\", line 746, in __call__\n",
      "    await route.handle(scope, receive, send)\n",
      "  File \"c:\\Users\\jaewi\\GitHub\\llama\\.venv\\lib\\site-packages\\starlette\\routing.py\", line 288, in handle\n",
      "    await self.app(scope, receive, send)\n",
      "  File \"c:\\Users\\jaewi\\GitHub\\llama\\.venv\\lib\\site-packages\\starlette\\routing.py\", line 75, in app\n",
      "    await wrap_app_handling_exceptions(app, request)(scope, receive, send)\n",
      "  File \"c:\\Users\\jaewi\\GitHub\\llama\\.venv\\lib\\site-packages\\starlette\\_exception_handler.py\", line 55, in wrapped_app\n",
      "    raise exc\n",
      "  File \"c:\\Users\\jaewi\\GitHub\\llama\\.venv\\lib\\site-packages\\starlette\\_exception_handler.py\", line 44, in wrapped_app\n",
      "    await app(scope, receive, sender)\n",
      "  File \"c:\\Users\\jaewi\\GitHub\\llama\\.venv\\lib\\site-packages\\starlette\\routing.py\", line 70, in app\n",
      "    response = await func(request)\n",
      "  File \"c:\\Users\\jaewi\\GitHub\\llama\\.venv\\lib\\site-packages\\llama_cpp\\server\\errors.py\", line 178, in custom_route_handler\n",
      "    json_body = await request.json()\n",
      "  File \"c:\\Users\\jaewi\\GitHub\\llama\\.venv\\lib\\site-packages\\starlette\\requests.py\", line 243, in json\n",
      "    self._json = json.loads(body)\n",
      "  File \"C:\\Users\\jaewi\\.pyenv\\pyenv-win\\versions\\3.10.9\\lib\\json\\__init__.py\", line 346, in loads\n",
      "    return _default_decoder.decode(s)\n",
      "  File \"C:\\Users\\jaewi\\.pyenv\\pyenv-win\\versions\\3.10.9\\lib\\json\\decoder.py\", line 337, in decode\n",
      "    obj, end = self.raw_decode(s, idx=_w(s, 0).end())\n",
      "  File \"C:\\Users\\jaewi\\.pyenv\\pyenv-win\\versions\\3.10.9\\lib\\json\\decoder.py\", line 353, in raw_decode\n",
      "    obj, end = self.scan_once(s, idx)\n",
      "json.decoder.JSONDecodeError: Expecting property name enclosed in double quotes: line 3 column 1 (char 90)\n"
     ]
    },
    {
     "name": "stdout",
     "output_type": "stream",
     "text": [
      "INFO:     ::1:51012 - \"POST /v1/completions HTTP/1.1\" 500 Internal Server Error\n"
     ]
    },
    {
     "name": "stderr",
     "output_type": "stream",
     "text": [
      "ERROR:    Exception in ASGI application\n",
      "Traceback (most recent call last):\n",
      "  File \"c:\\Users\\jaewi\\GitHub\\llama\\.venv\\lib\\site-packages\\fastapi\\routing.py\", line 245, in app\n",
      "    json_body = await request.json()\n",
      "  File \"c:\\Users\\jaewi\\GitHub\\llama\\.venv\\lib\\site-packages\\starlette\\requests.py\", line 243, in json\n",
      "    self._json = json.loads(body)\n",
      "  File \"C:\\Users\\jaewi\\.pyenv\\pyenv-win\\versions\\3.10.9\\lib\\json\\__init__.py\", line 346, in loads\n",
      "    return _default_decoder.decode(s)\n",
      "  File \"C:\\Users\\jaewi\\.pyenv\\pyenv-win\\versions\\3.10.9\\lib\\json\\decoder.py\", line 337, in decode\n",
      "    obj, end = self.raw_decode(s, idx=_w(s, 0).end())\n",
      "  File \"C:\\Users\\jaewi\\.pyenv\\pyenv-win\\versions\\3.10.9\\lib\\json\\decoder.py\", line 353, in raw_decode\n",
      "    obj, end = self.scan_once(s, idx)\n",
      "json.decoder.JSONDecodeError: Expecting property name enclosed in double quotes: line 2 column 88 (char 89)\n",
      "\n",
      "The above exception was the direct cause of the following exception:\n",
      "\n",
      "Traceback (most recent call last):\n",
      "  File \"c:\\Users\\jaewi\\GitHub\\llama\\.venv\\lib\\site-packages\\llama_cpp\\server\\errors.py\", line 170, in custom_route_handler\n",
      "    response = await original_route_handler(request)\n",
      "  File \"c:\\Users\\jaewi\\GitHub\\llama\\.venv\\lib\\site-packages\\fastapi\\routing.py\", line 264, in app\n",
      "    raise validation_error from e\n",
      "fastapi.exceptions.RequestValidationError: [{'type': 'json_invalid', 'loc': ('body', 89), 'msg': 'JSON decode error', 'input': {}, 'ctx': {'error': 'Expecting property name enclosed in double quotes'}}]\n",
      "\n",
      "During handling of the above exception, another exception occurred:\n",
      "\n",
      "Traceback (most recent call last):\n",
      "  File \"c:\\Users\\jaewi\\GitHub\\llama\\.venv\\lib\\site-packages\\uvicorn\\protocols\\http\\h11_impl.py\", line 408, in run_asgi\n",
      "    result = await app(  # type: ignore[func-returns-value]\n",
      "  File \"c:\\Users\\jaewi\\GitHub\\llama\\.venv\\lib\\site-packages\\uvicorn\\middleware\\proxy_headers.py\", line 84, in __call__\n",
      "    return await self.app(scope, receive, send)\n",
      "  File \"c:\\Users\\jaewi\\GitHub\\llama\\.venv\\lib\\site-packages\\fastapi\\applications.py\", line 1054, in __call__\n",
      "    await super().__call__(scope, receive, send)\n",
      "  File \"c:\\Users\\jaewi\\GitHub\\llama\\.venv\\lib\\site-packages\\starlette\\applications.py\", line 116, in __call__\n",
      "    await self.middleware_stack(scope, receive, send)\n",
      "  File \"c:\\Users\\jaewi\\GitHub\\llama\\.venv\\lib\\site-packages\\starlette\\middleware\\errors.py\", line 186, in __call__\n",
      "    raise exc\n",
      "  File \"c:\\Users\\jaewi\\GitHub\\llama\\.venv\\lib\\site-packages\\starlette\\middleware\\errors.py\", line 164, in __call__\n",
      "    await self.app(scope, receive, _send)\n",
      "  File \"c:\\Users\\jaewi\\GitHub\\llama\\.venv\\lib\\site-packages\\starlette\\middleware\\cors.py\", line 91, in __call__\n",
      "    await self.simple_response(scope, receive, send, request_headers=headers)\n",
      "  File \"c:\\Users\\jaewi\\GitHub\\llama\\.venv\\lib\\site-packages\\starlette\\middleware\\cors.py\", line 146, in simple_response\n",
      "    await self.app(scope, receive, send)\n",
      "  File \"c:\\Users\\jaewi\\GitHub\\llama\\.venv\\lib\\site-packages\\starlette_context\\middleware\\raw_middleware.py\", line 92, in __call__\n",
      "    await self.app(scope, receive, send_wrapper)\n",
      "  File \"c:\\Users\\jaewi\\GitHub\\llama\\.venv\\lib\\site-packages\\starlette\\middleware\\exceptions.py\", line 62, in __call__\n",
      "    await wrap_app_handling_exceptions(self.app, conn)(scope, receive, send)\n",
      "  File \"c:\\Users\\jaewi\\GitHub\\llama\\.venv\\lib\\site-packages\\starlette\\_exception_handler.py\", line 55, in wrapped_app\n",
      "    raise exc\n",
      "  File \"c:\\Users\\jaewi\\GitHub\\llama\\.venv\\lib\\site-packages\\starlette\\_exception_handler.py\", line 44, in wrapped_app\n",
      "    await app(scope, receive, sender)\n",
      "  File \"c:\\Users\\jaewi\\GitHub\\llama\\.venv\\lib\\site-packages\\starlette\\routing.py\", line 746, in __call__\n",
      "    await route.handle(scope, receive, send)\n",
      "  File \"c:\\Users\\jaewi\\GitHub\\llama\\.venv\\lib\\site-packages\\starlette\\routing.py\", line 288, in handle\n",
      "    await self.app(scope, receive, send)\n",
      "  File \"c:\\Users\\jaewi\\GitHub\\llama\\.venv\\lib\\site-packages\\starlette\\routing.py\", line 75, in app\n",
      "    await wrap_app_handling_exceptions(app, request)(scope, receive, send)\n",
      "  File \"c:\\Users\\jaewi\\GitHub\\llama\\.venv\\lib\\site-packages\\starlette\\_exception_handler.py\", line 55, in wrapped_app\n",
      "    raise exc\n",
      "  File \"c:\\Users\\jaewi\\GitHub\\llama\\.venv\\lib\\site-packages\\starlette\\_exception_handler.py\", line 44, in wrapped_app\n",
      "    await app(scope, receive, sender)\n",
      "  File \"c:\\Users\\jaewi\\GitHub\\llama\\.venv\\lib\\site-packages\\starlette\\routing.py\", line 70, in app\n",
      "    response = await func(request)\n",
      "  File \"c:\\Users\\jaewi\\GitHub\\llama\\.venv\\lib\\site-packages\\llama_cpp\\server\\errors.py\", line 178, in custom_route_handler\n",
      "    json_body = await request.json()\n",
      "  File \"c:\\Users\\jaewi\\GitHub\\llama\\.venv\\lib\\site-packages\\starlette\\requests.py\", line 243, in json\n",
      "    self._json = json.loads(body)\n",
      "  File \"C:\\Users\\jaewi\\.pyenv\\pyenv-win\\versions\\3.10.9\\lib\\json\\__init__.py\", line 346, in loads\n",
      "    return _default_decoder.decode(s)\n",
      "  File \"C:\\Users\\jaewi\\.pyenv\\pyenv-win\\versions\\3.10.9\\lib\\json\\decoder.py\", line 337, in decode\n",
      "    obj, end = self.raw_decode(s, idx=_w(s, 0).end())\n",
      "  File \"C:\\Users\\jaewi\\.pyenv\\pyenv-win\\versions\\3.10.9\\lib\\json\\decoder.py\", line 353, in raw_decode\n",
      "    obj, end = self.scan_once(s, idx)\n",
      "json.decoder.JSONDecodeError: Expecting property name enclosed in double quotes: line 2 column 88 (char 89)\n",
      "Llama.generate: prefix-match hit\n"
     ]
    },
    {
     "name": "stdout",
     "output_type": "stream",
     "text": [
      "INFO:     ::1:51024 - \"POST /v1/completions HTTP/1.1\" 200 OK\n"
     ]
    },
    {
     "name": "stderr",
     "output_type": "stream",
     "text": [
      "Llama.generate: prefix-match hit\n"
     ]
    },
    {
     "name": "stdout",
     "output_type": "stream",
     "text": [
      "INFO:     ::1:51052 - \"POST /v1/completions HTTP/1.1\" 200 OK\n"
     ]
    },
    {
     "name": "stderr",
     "output_type": "stream",
     "text": [
      "Llama.generate: prefix-match hit\n"
     ]
    },
    {
     "name": "stdout",
     "output_type": "stream",
     "text": [
      "INFO:     ::1:51064 - \"POST /v1/chat/completions HTTP/1.1\" 200 OK\n"
     ]
    },
    {
     "name": "stderr",
     "output_type": "stream",
     "text": [
      "Llama.generate: prefix-match hit\n",
      "Llama.generate: prefix-match hit\n"
     ]
    },
    {
     "name": "stdout",
     "output_type": "stream",
     "text": [
      "INFO:     ::1:53456 - \"POST /v1/chat/completions HTTP/1.1\" 200 OK\n"
     ]
    },
    {
     "name": "stderr",
     "output_type": "stream",
     "text": [
      "Llama.generate: prefix-match hit\n"
     ]
    },
    {
     "name": "stdout",
     "output_type": "stream",
     "text": [
      "INFO:     ::1:53494 - \"POST /v1/chat/completions HTTP/1.1\" 200 OK\n"
     ]
    },
    {
     "name": "stderr",
     "output_type": "stream",
     "text": [
      "INFO:     Shutting down\n",
      "INFO:     Waiting for application shutdown.\n",
      "INFO:     Application shutdown complete.\n",
      "INFO:     Finished server process [2028]\n"
     ]
    }
   ],
   "source": [
    "\n",
    "nest_asyncio.apply()\n",
    "\n",
    "uvicorn.run(\n",
    "    app, \n",
    "    host=os.getenv(\"HOST\", \"localhost\"), \n",
    "    port=PORT\n",
    ")"
   ]
  }
 ],
 "metadata": {
  "kernelspec": {
   "display_name": ".venv",
   "language": "python",
   "name": "python3"
  },
  "language_info": {
   "codemirror_mode": {
    "name": "ipython",
    "version": 3
   },
   "file_extension": ".py",
   "mimetype": "text/x-python",
   "name": "python",
   "nbconvert_exporter": "python",
   "pygments_lexer": "ipython3",
   "version": "3.10.9"
  }
 },
 "nbformat": 4,
 "nbformat_minor": 2
}
