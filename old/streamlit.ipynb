{
 "cells": [
  {
   "cell_type": "code",
   "execution_count": null,
   "metadata": {},
   "outputs": [],
   "source": [
    "# %pip install streamlit streamlit-jupyter"
   ]
  },
  {
   "cell_type": "code",
   "execution_count": 1,
   "metadata": {},
   "outputs": [
    {
     "ename": "ModuleNotFoundError",
     "evalue": "No module named 'streamlit'",
     "output_type": "error",
     "traceback": [
      "\u001b[0;31m---------------------------------------------------------------------------\u001b[0m",
      "\u001b[0;31mModuleNotFoundError\u001b[0m                       Traceback (most recent call last)",
      "Cell \u001b[0;32mIn[1], line 2\u001b[0m\n\u001b[1;32m      1\u001b[0m \u001b[38;5;66;03m#| exporti\u001b[39;00m\n\u001b[0;32m----> 2\u001b[0m \u001b[38;5;28;01mimport\u001b[39;00m \u001b[38;5;21;01mstreamlit\u001b[39;00m \u001b[38;5;28;01mas\u001b[39;00m \u001b[38;5;21;01mst\u001b[39;00m\n\u001b[1;32m      3\u001b[0m \u001b[38;5;28;01mfrom\u001b[39;00m \u001b[38;5;21;01mstreamlit_jupyter\u001b[39;00m \u001b[38;5;28;01mimport\u001b[39;00m StreamlitPatcher, tqdm\n\u001b[1;32m      4\u001b[0m \u001b[38;5;28;01mfrom\u001b[39;00m \u001b[38;5;21;01mst_chat_message\u001b[39;00m \u001b[38;5;28;01mimport\u001b[39;00m message\n",
      "\u001b[0;31mModuleNotFoundError\u001b[0m: No module named 'streamlit'"
     ]
    }
   ],
   "source": [
    "#| exporti\n",
    "import streamlit as st\n",
    "from streamlit_jupyter import StreamlitPatcher, tqdm\n",
    "from st_chat_message import message\n",
    "\n",
    "from dotenv import load_dotenv\n",
    "import os\n",
    "\n",
    "from langchain.chat_models import ChatOpenAI\n",
    "from langchain.schema import (\n",
    "    SystemMessage,\n",
    "    HumanMessage,\n",
    "    AIMessage\n",
    ")\n",
    "\n",
    "# from hugchat import hugchat\n",
    "# from hugchat.login import Login\n",
    " \n",
    "# import numpy as np"
   ]
  },
  {
   "cell_type": "code",
   "execution_count": null,
   "metadata": {},
   "outputs": [],
   "source": [
    "#|export\n",
    "\n",
    "\n",
    "def init():\n",
    "    #Load the OpenAI API key \n",
    "    load_dotenv()\n",
    "    \n",
    "    #Check if the API key exists\n",
    "    if os.getenv(\"OPENAI_API_KEY\") is None or os.getenv(\"OPENAI_API_KEY\") == \"\":\n",
    "        print(\"OPENAI_API_KEY is not set\")\n",
    "        exit(1)\n",
    "    else:\n",
    "        print(\"OPENAI_API_KEY is set\")\n",
    "\n",
    "    #streamlit page\n",
    "    st.set_page_config(\n",
    "        page_title=\"Your own ChatGPT\",\n",
    "        page_icon=\"🤖\"\n",
    "    )\n",
    "\n",
    "\n",
    "def main():\n",
    "    init()\n",
    "\n",
    "    chat = ChatOpenAI(temperature=0)\n",
    "\n",
    "    #messages history\n",
    "    if \"messages\" not in st.session_state:\n",
    "        st.session_state.messages = [\n",
    "            SystemMessage(content=\"You are a helpful assistant.\")\n",
    "        ]\n",
    "\n",
    "    st.header(\"Your Bot 🤖\")\n",
    "\n",
    "    #sidebar with user input\n",
    "    with st.sidebar:\n",
    "        user = st.text_input(\"Enter your message: \", key=\"user_input\")\n",
    "\n",
    "        #user input\n",
    "        if user:\n",
    "            st.session_state.messages.append(HumanMessage(content=user))\n",
    "            with st.spinner(\"Thinking...\"):\n",
    "                response = chat(st.session_state.messages)\n",
    "            st.session_state.messages.append(\n",
    "                AIMessage(content=response.content))\n"
   ]
  },
  {
   "cell_type": "code",
   "execution_count": null,
   "metadata": {},
   "outputs": [],
   "source": [
    "from nbdev.export import nb_export\n",
    "nb_export('streamlit.ipynb', lib_path='.', name='app')"
   ]
  }
 ],
 "metadata": {
  "kernelspec": {
   "display_name": ".venv",
   "language": "python",
   "name": "python3"
  },
  "language_info": {
   "codemirror_mode": {
    "name": "ipython",
    "version": 3
   },
   "file_extension": ".py",
   "mimetype": "text/x-python",
   "name": "python",
   "nbconvert_exporter": "python",
   "pygments_lexer": "ipython3",
   "version": "3.10.12"
  }
 },
 "nbformat": 4,
 "nbformat_minor": 2
}
